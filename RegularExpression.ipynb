{
 "cells": [
  {
   "attachments": {},
   "cell_type": "markdown",
   "metadata": {},
   "source": [
    "# 파이썬에서 정규 표현식을 사용하는 기본적인 사용법\n",
    "\n",
    "다양한 정규 표현식 패턴\n",
    "- '^' : 이 패턴으로 시작해야 함\n",
    "- '$' : 이 패턴으로 종료돼야 함\n",
    "- '[문자]' : 문자 중에 하나여야 함. 가능한 문자들의 집합을 정의함\n",
    "- '[^문자]' : [문자]의 반대로, 피해야할 문자들의 집합을 정의함\n",
    "- '|' :두 패턴 중 하나이어야 함\n",
    "- '?' :앞 패턴이 없거나 하나이어야 함\n",
    "- '+' :앞 패턴이 하나 이상이어야 함\n",
    "- '*' : 앞 패턴이 0개 이상이어야 함\n",
    "- '패턴{n}' : 앞 패턴이 n번 반복해서 나타나는 경우\n",
    "- '패턴{n, m}' : 앞 패턴이 최소 n번, 최대 m번 반복해서 나타나는 경우\n",
    "- '\\d' : 숫자 0~9\n",
    "- '\\w' : 문자\n",
    "- '\\s' : 화이트 스페이스(\\t, \\n, \\r, \\f)\n",
    "- '.' : 뉴라인(\\n)을 제외한 모든 문자\n",
    "\n",
    "pattern 객체는 다음과 같은 4가지 메서드를 제공합니다.\n",
    "- match() : 문자열의 처음부터 정규식과 매치되는지 조사한다.\n",
    "- search() : 문자열 전체를 검색하여 정규식과 매치되는지 조사한다.\n",
    "- findall() : 정규식과 매치되는 모든 문자열(substring)을 리스트로 돌려준다.\n",
    "- finditer() : 정규식과 매치되는 모든 문자열(substring)을 반복 가능한 객체로 돌려준다.\n",
    "\n",
    "match 객체는 다음과 같은 4가지 메서드를 제공합니다.\n",
    "- group() : 매치된 문자열을 돌려준다.\n",
    "- start() : 매치된 문자열의 시작 위치를 돌려준다.\n",
    "- end() : 매치된 문자열의 끝 위치를 돌려준다.\n",
    "- span() : 매치된 문자열의 (시작, 끝)에 해당하는 튜플을 돌려준다."
   ]
  },
  {
   "cell_type": "code",
   "execution_count": 1,
   "metadata": {},
   "outputs": [],
   "source": [
    "# 1. 모듈 임포트\n",
    "import re"
   ]
  },
  {
   "cell_type": "code",
   "execution_count": 2,
   "metadata": {},
   "outputs": [],
   "source": [
    "# 2. 정규 표현식 패턴 컴파일\n",
    "pattern = re.compile(r'정규표현식 패턴')"
   ]
  },
  {
   "cell_type": "code",
   "execution_count": 5,
   "metadata": {},
   "outputs": [
    {
     "name": "stdout",
     "output_type": "stream",
     "text": [
      "bad\n"
     ]
    }
   ],
   "source": [
    "# 3. 패턴 매칭 검사\n",
    "match = pattern.match(문자열)\n",
    "if match:\n",
    "    # 매칭됨\n",
    "else:\n",
    "    # 매칭되지 않음"
   ]
  },
  {
   "cell_type": "code",
   "execution_count": null,
   "metadata": {},
   "outputs": [],
   "source": [
    "# 4. 매칭된 결과 가져오기\n",
    "match.group()  # 매칭된 전체 문자열 반환\n",
    "match.group(n)  # n번째 그룹에 매칭된 문자열 반환 (괄호로 그룹화한 패턴에 사용)"
   ]
  },
  {
   "cell_type": "code",
   "execution_count": 8,
   "metadata": {},
   "outputs": [
    {
     "name": "stdout",
     "output_type": "stream",
     "text": [
      "bad\n"
     ]
    }
   ],
   "source": [
    "# 5. 패턴으로 문자열 검색\n",
    "search = pattern.search(문자열)\n",
    "if search:\n",
    "    # 패턴이 문자열 어디든 매칭됨\n",
    "else:\n",
    "    # 패턴이 문자열에 매칭되지 않음"
   ]
  },
  {
   "cell_type": "code",
   "execution_count": 10,
   "metadata": {},
   "outputs": [],
   "source": [
    "# 6. 패턴에 매칭되는 모든 문자열 찾기\n",
    "matches = pattern.findall(문자열)"
   ]
  },
  {
   "cell_type": "code",
   "execution_count": 11,
   "metadata": {},
   "outputs": [],
   "source": [
    "# 7. 패턴으로 문자열 치환\n",
    "new_string = pattern.sub(치환할_문자열, 문자열)"
   ]
  }
 ],
 "metadata": {
  "kernelspec": {
   "display_name": "Python 3",
   "language": "python",
   "name": "python3"
  },
  "language_info": {
   "codemirror_mode": {
    "name": "ipython",
    "version": 3
   },
   "file_extension": ".py",
   "mimetype": "text/x-python",
   "name": "python",
   "nbconvert_exporter": "python",
   "pygments_lexer": "ipython3",
   "version": "3.11.2"
  },
  "orig_nbformat": 4
 },
 "nbformat": 4,
 "nbformat_minor": 2
}
